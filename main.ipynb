{
 "cells": [
  {
   "cell_type": "code",
   "execution_count": 1,
   "metadata": {},
   "outputs": [],
   "source": [
    "import requests\n",
    "import pandas as pd \n",
    "import numpy as np\n",
    "from datetime import datetime\n",
    "import os"
   ]
  },
  {
   "cell_type": "code",
   "execution_count": 15,
   "metadata": {},
   "outputs": [],
   "source": [
    "\n",
    "def connect_to_api(api):\n",
    "    response  = requests.get(api)\n",
    "    result = response.status_code\n",
    "\n",
    "    if result == 200:\n",
    "        print('Connect to API Success')\n",
    "        data = response.json()\n",
    "    elif result == 404:\n",
    "        print('Fail to connect API')\n",
    "    return result , data\n",
    "\n"
   ]
  },
  {
   "cell_type": "code",
   "execution_count": 17,
   "metadata": {},
   "outputs": [
    {
     "name": "stdout",
     "output_type": "stream",
     "text": [
      "Connect to API Success\n",
      "Connect to API Success\n"
     ]
    }
   ],
   "source": [
    "api_transfer = 'https://www.fotmob.com/api/transfers'\n",
    "api_league = 'https://www.fotmob.com/api/allLeagues'\n",
    "data = connect_to_api(api_transfer)[1]\n",
    "data_league = connect_to_api(api_league)[1]"
   ]
  },
  {
   "cell_type": "code",
   "execution_count": null,
   "metadata": {},
   "outputs": [],
   "source": []
  },
  {
   "cell_type": "code",
   "execution_count": 4,
   "metadata": {},
   "outputs": [
    {
     "data": {
      "text/plain": [
       "dict_keys(['transfers', 'hits'])"
      ]
     },
     "execution_count": 4,
     "metadata": {},
     "output_type": "execute_result"
    }
   ],
   "source": [
    "data.keys()"
   ]
  },
  {
   "cell_type": "code",
   "execution_count": 5,
   "metadata": {},
   "outputs": [],
   "source": [
    "def processing_data(data):\n",
    "    raw_data = []\n",
    "    # xử lý json format to dict -> DF\n",
    "    for i in range(len(data['transfers'])):\n",
    "        a =     {\n",
    "            'playerId' : data['transfers'][i]['playerId'],\n",
    "            \n",
    "            'name' : data['transfers'][i]['name'],\n",
    "            'position': data.get('transfers')[i].get('position'),\n",
    "            'transferDate': data['transfers'][i]['transferDate'],\n",
    "            'fromClubId': data['transfers'][i]['fromClubId'],\n",
    "            'fromClub': data['transfers'][i]['fromClub'],\n",
    "            'toClub': data['transfers'][i]['toClub'],\n",
    "            'toClubId': data['transfers'][i]['toClubId'],\n",
    "            'fromDate': data['transfers'][i]['fromDate'], \n",
    "            'toDate': data.get('transfers')[i].get('toDate'),\n",
    "            'transferType': data.get('transfers')[i].get('transferType'),\n",
    "            'marketValue': data.get('transfers')[i].get('marketValue'),\n",
    "            'fee': data.get('transfers')[i].get('fee')\n",
    "            \n",
    "\n",
    "            \n",
    "\n",
    "        }\n",
    "        raw_data.append(a)\n",
    "        # break\n",
    "    df = pd.DataFrame(raw_data)\n",
    "\n",
    "    df['position_name'] = df['position'].str['label']\n",
    "    df['position_description'] = df['position'].str['key'].str.split('_').str[0]\n",
    "    df['transferType'] = df['transferType'].str['text']\n",
    "    df['fee_transfer'] = df['fee'].str['value'].replace(np.nan,0)\n",
    "    df['marketValue'] = df['marketValue'].replace(np.nan,0)\n",
    "    df['transferDate'] =  pd.to_datetime(df['transferDate']).dt.strftime('%d-%m-%Y')\n",
    "    df['fromDate'] =  pd.to_datetime(df['fromDate']).dt.strftime('%d-%m-%Y')\n",
    "    df['toDate'] =  pd.to_datetime(df['toDate']).dt.strftime('%d-%m-%Y')\n",
    "\n",
    "\n",
    "    # df.head(5)\n",
    "    return df\n",
    "\n",
    "\n"
   ]
  },
  {
   "cell_type": "code",
   "execution_count": 6,
   "metadata": {},
   "outputs": [
    {
     "data": {
      "text/html": [
       "<div>\n",
       "<style scoped>\n",
       "    .dataframe tbody tr th:only-of-type {\n",
       "        vertical-align: middle;\n",
       "    }\n",
       "\n",
       "    .dataframe tbody tr th {\n",
       "        vertical-align: top;\n",
       "    }\n",
       "\n",
       "    .dataframe thead th {\n",
       "        text-align: right;\n",
       "    }\n",
       "</style>\n",
       "<table border=\"1\" class=\"dataframe\">\n",
       "  <thead>\n",
       "    <tr style=\"text-align: right;\">\n",
       "      <th></th>\n",
       "      <th>playerId</th>\n",
       "      <th>name</th>\n",
       "      <th>position</th>\n",
       "      <th>transferDate</th>\n",
       "      <th>fromClubId</th>\n",
       "      <th>fromClub</th>\n",
       "      <th>toClub</th>\n",
       "      <th>toClubId</th>\n",
       "      <th>fromDate</th>\n",
       "      <th>toDate</th>\n",
       "      <th>transferType</th>\n",
       "      <th>marketValue</th>\n",
       "      <th>fee</th>\n",
       "      <th>position_name</th>\n",
       "      <th>position_description</th>\n",
       "      <th>fee_transfer</th>\n",
       "    </tr>\n",
       "  </thead>\n",
       "  <tbody>\n",
       "    <tr>\n",
       "      <th>0</th>\n",
       "      <td>1649302</td>\n",
       "      <td>Jayden Hibbert</td>\n",
       "      <td>None</td>\n",
       "      <td>19-06-2024</td>\n",
       "      <td>773958</td>\n",
       "      <td>Atlanta United</td>\n",
       "      <td>Birmingham Legion FC</td>\n",
       "      <td>-1</td>\n",
       "      <td>17-06-2024</td>\n",
       "      <td>31-12-2024</td>\n",
       "      <td>on loan</td>\n",
       "      <td>25000.0</td>\n",
       "      <td>{'feeText': 'on loan', 'localizedFeeText': 'on...</td>\n",
       "      <td>None</td>\n",
       "      <td>None</td>\n",
       "      <td>0.0</td>\n",
       "    </tr>\n",
       "    <tr>\n",
       "      <th>1</th>\n",
       "      <td>877450</td>\n",
       "      <td>Lasse Sørensen</td>\n",
       "      <td>{'label': 'RM', 'key': 'rightmidfielder_short'}</td>\n",
       "      <td>19-06-2024</td>\n",
       "      <td>8430</td>\n",
       "      <td>Lincoln</td>\n",
       "      <td>Huddersfield</td>\n",
       "      <td>9796</td>\n",
       "      <td>01-07-2024</td>\n",
       "      <td>30-06-2027</td>\n",
       "      <td>contract</td>\n",
       "      <td>550000.0</td>\n",
       "      <td>{'feeText': 'fee', 'localizedFeeText': 'transf...</td>\n",
       "      <td>RM</td>\n",
       "      <td>rightmidfielder</td>\n",
       "      <td>470000.0</td>\n",
       "    </tr>\n",
       "    <tr>\n",
       "      <th>2</th>\n",
       "      <td>607331</td>\n",
       "      <td>Alistair Coote</td>\n",
       "      <td>{'label': 'LW', 'key': 'leftwinger_short'}</td>\n",
       "      <td>19-06-2024</td>\n",
       "      <td>2</td>\n",
       "      <td>Free agent</td>\n",
       "      <td>Shelbourne</td>\n",
       "      <td>5751</td>\n",
       "      <td>01-07-2024</td>\n",
       "      <td>NaN</td>\n",
       "      <td>contract</td>\n",
       "      <td>130000.0</td>\n",
       "      <td>{'feeText': 'free transfer', 'localizedFeeText...</td>\n",
       "      <td>LW</td>\n",
       "      <td>leftwinger</td>\n",
       "      <td>0.0</td>\n",
       "    </tr>\n",
       "    <tr>\n",
       "      <th>3</th>\n",
       "      <td>568581</td>\n",
       "      <td>Alex Bass</td>\n",
       "      <td>{'label': 'GK', 'key': 'keeper'}</td>\n",
       "      <td>19-06-2024</td>\n",
       "      <td>8472</td>\n",
       "      <td>Sunderland</td>\n",
       "      <td>Notts County</td>\n",
       "      <td>9819</td>\n",
       "      <td>01-07-2024</td>\n",
       "      <td>30-06-2027</td>\n",
       "      <td>contract</td>\n",
       "      <td>240000.0</td>\n",
       "      <td>None</td>\n",
       "      <td>GK</td>\n",
       "      <td>keeper</td>\n",
       "      <td>0.0</td>\n",
       "    </tr>\n",
       "    <tr>\n",
       "      <th>4</th>\n",
       "      <td>832826</td>\n",
       "      <td>Sam Bone</td>\n",
       "      <td>{'label': 'CB', 'key': 'centerback_short'}</td>\n",
       "      <td>19-06-2024</td>\n",
       "      <td>8131</td>\n",
       "      <td>Maidstone United</td>\n",
       "      <td>Shelbourne</td>\n",
       "      <td>5751</td>\n",
       "      <td>01-07-2024</td>\n",
       "      <td>30-11-2024</td>\n",
       "      <td>contract</td>\n",
       "      <td>110000.0</td>\n",
       "      <td>{'feeText': 'free transfer', 'localizedFeeText...</td>\n",
       "      <td>CB</td>\n",
       "      <td>centerback</td>\n",
       "      <td>0.0</td>\n",
       "    </tr>\n",
       "  </tbody>\n",
       "</table>\n",
       "</div>"
      ],
      "text/plain": [
       "   playerId            name                                         position  \\\n",
       "0   1649302  Jayden Hibbert                                             None   \n",
       "1    877450  Lasse Sørensen  {'label': 'RM', 'key': 'rightmidfielder_short'}   \n",
       "2    607331  Alistair Coote       {'label': 'LW', 'key': 'leftwinger_short'}   \n",
       "3    568581       Alex Bass                 {'label': 'GK', 'key': 'keeper'}   \n",
       "4    832826        Sam Bone       {'label': 'CB', 'key': 'centerback_short'}   \n",
       "\n",
       "  transferDate  fromClubId          fromClub                toClub  toClubId  \\\n",
       "0   19-06-2024      773958    Atlanta United  Birmingham Legion FC        -1   \n",
       "1   19-06-2024        8430           Lincoln          Huddersfield      9796   \n",
       "2   19-06-2024           2        Free agent            Shelbourne      5751   \n",
       "3   19-06-2024        8472        Sunderland          Notts County      9819   \n",
       "4   19-06-2024        8131  Maidstone United            Shelbourne      5751   \n",
       "\n",
       "     fromDate      toDate transferType  marketValue  \\\n",
       "0  17-06-2024  31-12-2024      on loan      25000.0   \n",
       "1  01-07-2024  30-06-2027     contract     550000.0   \n",
       "2  01-07-2024         NaN     contract     130000.0   \n",
       "3  01-07-2024  30-06-2027     contract     240000.0   \n",
       "4  01-07-2024  30-11-2024     contract     110000.0   \n",
       "\n",
       "                                                 fee position_name  \\\n",
       "0  {'feeText': 'on loan', 'localizedFeeText': 'on...          None   \n",
       "1  {'feeText': 'fee', 'localizedFeeText': 'transf...            RM   \n",
       "2  {'feeText': 'free transfer', 'localizedFeeText...            LW   \n",
       "3                                               None            GK   \n",
       "4  {'feeText': 'free transfer', 'localizedFeeText...            CB   \n",
       "\n",
       "  position_description  fee_transfer  \n",
       "0                 None           0.0  \n",
       "1      rightmidfielder      470000.0  \n",
       "2           leftwinger           0.0  \n",
       "3               keeper           0.0  \n",
       "4           centerback           0.0  "
      ]
     },
     "execution_count": 6,
     "metadata": {},
     "output_type": "execute_result"
    }
   ],
   "source": [
    "transfer_table = processing_data(data)\n",
    "transfer_table.head()"
   ]
  },
  {
   "cell_type": "code",
   "execution_count": 7,
   "metadata": {},
   "outputs": [
    {
     "data": {
      "text/plain": [
       "['19-06-2024',\n",
       " '18-06-2024',\n",
       " '17-06-2024',\n",
       " '16-06-2024',\n",
       " '15-06-2024',\n",
       " '14-06-2024']"
      ]
     },
     "execution_count": 7,
     "metadata": {},
     "output_type": "execute_result"
    }
   ],
   "source": [
    "date_transfer = list(transfer_table['transferDate'].unique())\n",
    "date_transfer"
   ]
  },
  {
   "cell_type": "code",
   "execution_count": 14,
   "metadata": {},
   "outputs": [
    {
     "name": "stdout",
     "output_type": "stream",
     "text": [
      "Write SUCCESS to: data/transfer/2024/6/19-06-2024.csv\n",
      "Write SUCCESS to: data/transfer/2024/6/18-06-2024.csv\n",
      "Write SUCCESS to: data/transfer/2024/6/17-06-2024.csv\n",
      "Write SUCCESS to: data/transfer/2024/6/16-06-2024.csv\n",
      "Write SUCCESS to: data/transfer/2024/6/15-06-2024.csv\n",
      "Write SUCCESS to: data/transfer/2024/6/14-06-2024.csv\n"
     ]
    }
   ],
   "source": [
    "for i in date_transfer:\n",
    "    file = transfer_table[transfer_table['transferDate'] == i]\n",
    "    date = datetime.strptime(i,\"%d-%m-%Y\")\n",
    "    year = date.year\n",
    "    month = date.month\n",
    "    day = date.day\n",
    "    \n",
    "    path = f'data/transfer/{year}/{month}'\n",
    "    file_path = f'{path}/{i}.csv'\n",
    "    # Create directory if not exists \n",
    "    os.makedirs(path,exist_ok=True)\n",
    "    \n",
    "    # Write to directory\n",
    "    file.to_csv(file_path, index=False)\n",
    "    print(f'Write SUCCESS to: {file_path}')\n",
    "    # break"
   ]
  },
  {
   "cell_type": "code",
   "execution_count": 13,
   "metadata": {},
   "outputs": [
    {
     "data": {
      "text/html": [
       "<div>\n",
       "<style scoped>\n",
       "    .dataframe tbody tr th:only-of-type {\n",
       "        vertical-align: middle;\n",
       "    }\n",
       "\n",
       "    .dataframe tbody tr th {\n",
       "        vertical-align: top;\n",
       "    }\n",
       "\n",
       "    .dataframe thead th {\n",
       "        text-align: right;\n",
       "    }\n",
       "</style>\n",
       "<table border=\"1\" class=\"dataframe\">\n",
       "  <thead>\n",
       "    <tr style=\"text-align: right;\">\n",
       "      <th></th>\n",
       "      <th>playerId</th>\n",
       "      <th>name</th>\n",
       "      <th>position</th>\n",
       "      <th>transferDate</th>\n",
       "      <th>fromClubId</th>\n",
       "      <th>fromClub</th>\n",
       "      <th>toClub</th>\n",
       "      <th>toClubId</th>\n",
       "      <th>fromDate</th>\n",
       "      <th>toDate</th>\n",
       "      <th>transferType</th>\n",
       "      <th>marketValue</th>\n",
       "      <th>fee</th>\n",
       "      <th>position_name</th>\n",
       "      <th>position_description</th>\n",
       "      <th>fee_transfer</th>\n",
       "    </tr>\n",
       "  </thead>\n",
       "  <tbody>\n",
       "    <tr>\n",
       "      <th>0</th>\n",
       "      <td>1649302</td>\n",
       "      <td>Jayden Hibbert</td>\n",
       "      <td>None</td>\n",
       "      <td>19-06-2024</td>\n",
       "      <td>773958</td>\n",
       "      <td>Atlanta United</td>\n",
       "      <td>Birmingham Legion FC</td>\n",
       "      <td>-1</td>\n",
       "      <td>17-06-2024</td>\n",
       "      <td>31-12-2024</td>\n",
       "      <td>on loan</td>\n",
       "      <td>25000.0</td>\n",
       "      <td>{'feeText': 'on loan', 'localizedFeeText': 'on...</td>\n",
       "      <td>None</td>\n",
       "      <td>None</td>\n",
       "      <td>0.0</td>\n",
       "    </tr>\n",
       "  </tbody>\n",
       "</table>\n",
       "</div>"
      ],
      "text/plain": [
       "   playerId            name position transferDate  fromClubId        fromClub  \\\n",
       "0   1649302  Jayden Hibbert     None   19-06-2024      773958  Atlanta United   \n",
       "\n",
       "                 toClub  toClubId    fromDate      toDate transferType  \\\n",
       "0  Birmingham Legion FC        -1  17-06-2024  31-12-2024      on loan   \n",
       "\n",
       "   marketValue                                                fee  \\\n",
       "0      25000.0  {'feeText': 'on loan', 'localizedFeeText': 'on...   \n",
       "\n",
       "  position_name position_description  fee_transfer  \n",
       "0          None                 None           0.0  "
      ]
     },
     "execution_count": 13,
     "metadata": {},
     "output_type": "execute_result"
    }
   ],
   "source": []
  },
  {
   "cell_type": "code",
   "execution_count": 41,
   "metadata": {},
   "outputs": [
    {
     "data": {
      "text/plain": [
       "{'ccode': 'ALB',\n",
       " 'name': 'Albania',\n",
       " 'leagues': [{'id': 10175,\n",
       "   'name': 'Super Cup',\n",
       "   'localizedName': 'Super Cup',\n",
       "   'pageUrl': '/leagues/10175/overview/super-cup'},\n",
       "  {'id': 260,\n",
       "   'name': 'Superiore',\n",
       "   'localizedName': 'Superiore',\n",
       "   'pageUrl': '/leagues/260/overview/superiore'},\n",
       "  {'id': 9173,\n",
       "   'name': 'Superiore Qualification',\n",
       "   'localizedName': 'Superiore Qualification',\n",
       "   'pageUrl': '/leagues/9173/overview/superiore-qualification'}],\n",
       " 'localizedName': 'Albania'}"
      ]
     },
     "execution_count": 41,
     "metadata": {},
     "output_type": "execute_result"
    }
   ],
   "source": [
    "data_league['countries'][0]"
   ]
  },
  {
   "cell_type": "code",
   "execution_count": 52,
   "metadata": {},
   "outputs": [
    {
     "data": {
      "text/html": [
       "<div>\n",
       "<style scoped>\n",
       "    .dataframe tbody tr th:only-of-type {\n",
       "        vertical-align: middle;\n",
       "    }\n",
       "\n",
       "    .dataframe tbody tr th {\n",
       "        vertical-align: top;\n",
       "    }\n",
       "\n",
       "    .dataframe thead th {\n",
       "        text-align: right;\n",
       "    }\n",
       "</style>\n",
       "<table border=\"1\" class=\"dataframe\">\n",
       "  <thead>\n",
       "    <tr style=\"text-align: right;\">\n",
       "      <th></th>\n",
       "      <th>ccode</th>\n",
       "      <th>name</th>\n",
       "      <th>leagues</th>\n",
       "      <th>localizedName</th>\n",
       "    </tr>\n",
       "  </thead>\n",
       "  <tbody>\n",
       "    <tr>\n",
       "      <th>0</th>\n",
       "      <td>ALB</td>\n",
       "      <td>Albania</td>\n",
       "      <td>[{'id': 10175, 'name': 'Super Cup', 'localized...</td>\n",
       "      <td>Albania</td>\n",
       "    </tr>\n",
       "    <tr>\n",
       "      <th>1</th>\n",
       "      <td>ALG</td>\n",
       "      <td>Algeria</td>\n",
       "      <td>[{'id': 516, 'name': 'Ligue 1', 'localizedName...</td>\n",
       "      <td>Algeria</td>\n",
       "    </tr>\n",
       "    <tr>\n",
       "      <th>2</th>\n",
       "      <td>ARG</td>\n",
       "      <td>Argentina</td>\n",
       "      <td>[{'id': 112, 'name': 'Liga Profesional', 'loca...</td>\n",
       "      <td>Argentina</td>\n",
       "    </tr>\n",
       "    <tr>\n",
       "      <th>3</th>\n",
       "      <td>ARM</td>\n",
       "      <td>Armenia</td>\n",
       "      <td>[{'id': 118, 'name': 'Premier League', 'locali...</td>\n",
       "      <td>Armenia</td>\n",
       "    </tr>\n",
       "    <tr>\n",
       "      <th>4</th>\n",
       "      <td>AUS</td>\n",
       "      <td>Australia</td>\n",
       "      <td>[{'id': 113, 'name': 'A-League', 'localizedNam...</td>\n",
       "      <td>Australia</td>\n",
       "    </tr>\n",
       "  </tbody>\n",
       "</table>\n",
       "</div>"
      ],
      "text/plain": [
       "  ccode       name                                            leagues  \\\n",
       "0   ALB    Albania  [{'id': 10175, 'name': 'Super Cup', 'localized...   \n",
       "1   ALG    Algeria  [{'id': 516, 'name': 'Ligue 1', 'localizedName...   \n",
       "2   ARG  Argentina  [{'id': 112, 'name': 'Liga Profesional', 'loca...   \n",
       "3   ARM    Armenia  [{'id': 118, 'name': 'Premier League', 'locali...   \n",
       "4   AUS  Australia  [{'id': 113, 'name': 'A-League', 'localizedNam...   \n",
       "\n",
       "  localizedName  \n",
       "0       Albania  \n",
       "1       Algeria  \n",
       "2     Argentina  \n",
       "3       Armenia  \n",
       "4     Australia  "
      ]
     },
     "execution_count": 52,
     "metadata": {},
     "output_type": "execute_result"
    }
   ],
   "source": [
    "league = data_league['countries']\n",
    "df1 = pd.DataFrame(league)\n",
    "df1.head()"
   ]
  },
  {
   "cell_type": "code",
   "execution_count": 67,
   "metadata": {},
   "outputs": [
    {
     "data": {
      "text/plain": [
       "0     [{'id': 10175, 'name': 'Super Cup', 'localized...\n",
       "1     [{'id': 516, 'name': 'Ligue 1', 'localizedName...\n",
       "2     [{'id': 112, 'name': 'Liga Profesional', 'loca...\n",
       "3     [{'id': 118, 'name': 'Premier League', 'locali...\n",
       "4     [{'id': 113, 'name': 'A-League', 'localizedNam...\n",
       "                            ...                        \n",
       "86    [{'id': 130, 'name': 'MLS', 'localizedName': '...\n",
       "87    [{'id': 10342, 'name': 'Cup', 'localizedName':...\n",
       "88    [{'id': 339, 'name': 'Primera Division', 'loca...\n",
       "89    [{'id': 9088, 'name': 'V-League', 'localizedNa...\n",
       "90    [{'id': 116, 'name': 'Premier League', 'locali...\n",
       "Name: leagues, Length: 91, dtype: object"
      ]
     },
     "execution_count": 67,
     "metadata": {},
     "output_type": "execute_result"
    }
   ],
   "source": [
    "df1['leagues']"
   ]
  },
  {
   "cell_type": "code",
   "execution_count": 84,
   "metadata": {},
   "outputs": [],
   "source": [
    "def get_league(league):\n",
    "    concat_name = []\n",
    "    for l in league:\n",
    "        name = l['name']\n",
    "        concat_name.append(name)\n",
    "    return concat_name\n"
   ]
  },
  {
   "cell_type": "code",
   "execution_count": 85,
   "metadata": {},
   "outputs": [
    {
     "data": {
      "text/plain": [
       "26    [Premier League, Championship, League One, Lea...\n",
       "Name: leagues, dtype: object"
      ]
     },
     "execution_count": 85,
     "metadata": {},
     "output_type": "execute_result"
    }
   ],
   "source": [
    "df2['leagues'].apply(get_league)"
   ]
  },
  {
   "cell_type": "code",
   "execution_count": 86,
   "metadata": {},
   "outputs": [
    {
     "data": {
      "text/html": [
       "<div>\n",
       "<style scoped>\n",
       "    .dataframe tbody tr th:only-of-type {\n",
       "        vertical-align: middle;\n",
       "    }\n",
       "\n",
       "    .dataframe tbody tr th {\n",
       "        vertical-align: top;\n",
       "    }\n",
       "\n",
       "    .dataframe thead th {\n",
       "        text-align: right;\n",
       "    }\n",
       "</style>\n",
       "<table border=\"1\" class=\"dataframe\">\n",
       "  <thead>\n",
       "    <tr style=\"text-align: right;\">\n",
       "      <th></th>\n",
       "      <th>ccode</th>\n",
       "      <th>name</th>\n",
       "      <th>leagues</th>\n",
       "      <th>localizedName</th>\n",
       "    </tr>\n",
       "  </thead>\n",
       "  <tbody>\n",
       "    <tr>\n",
       "      <th>26</th>\n",
       "      <td>ENG</td>\n",
       "      <td>England</td>\n",
       "      <td>[{'id': 47, 'name': 'Premier League', 'localiz...</td>\n",
       "      <td>England</td>\n",
       "    </tr>\n",
       "  </tbody>\n",
       "</table>\n",
       "</div>"
      ],
      "text/plain": [
       "   ccode     name                                            leagues  \\\n",
       "26   ENG  England  [{'id': 47, 'name': 'Premier League', 'localiz...   \n",
       "\n",
       "   localizedName  \n",
       "26       England  "
      ]
     },
     "execution_count": 86,
     "metadata": {},
     "output_type": "execute_result"
    }
   ],
   "source": [
    "df2 = df1[df1['name'] == 'England']\n",
    "df2\n"
   ]
  },
  {
   "cell_type": "code",
   "execution_count": 89,
   "metadata": {},
   "outputs": [
    {
     "name": "stdout",
     "output_type": "stream",
     "text": [
      "{'id': 47, 'name': 'Premier League', 'localizedName': 'Premier League', 'pageUrl': '/leagues/47/overview/premier-league'}\n",
      "{'id': 48, 'name': 'Championship', 'localizedName': 'Championship', 'pageUrl': '/leagues/48/overview/championship'}\n",
      "{'id': 108, 'name': 'League One', 'localizedName': 'League One', 'pageUrl': '/leagues/108/overview/league-one'}\n",
      "{'id': 109, 'name': 'League Two', 'localizedName': 'League Two', 'pageUrl': '/leagues/109/overview/league-two'}\n",
      "{'id': 117, 'name': 'National League', 'localizedName': 'National League', 'pageUrl': '/leagues/117/overview/national-league'}\n",
      "{'id': 8944, 'name': 'National North & South', 'localizedName': 'National North & South', 'pageUrl': '/leagues/8944/overview/national-north-south'}\n",
      "{'id': 8947, 'name': 'Premier Division', 'localizedName': 'Premier Division', 'pageUrl': '/leagues/8947/overview/premier-division'}\n",
      "{'id': 9084, 'name': 'Premier League 2 Div 1', 'localizedName': 'Premier League 2 Div 1', 'pageUrl': '/leagues/9084/overview/premier-league-2-div-1'}\n",
      "{'id': 10176, 'name': 'Premier League 2 Div 2', 'localizedName': 'Premier League 2 Div 2', 'pageUrl': '/leagues/10176/overview/premier-league-2-div-2'}\n",
      "{'id': 247, 'name': 'Community Shield', 'localizedName': 'Community Shield', 'pageUrl': '/leagues/247/overview/community-shield'}\n",
      "{'id': 132, 'name': 'FA Cup', 'localizedName': 'FA Cup', 'pageUrl': '/leagues/132/overview/fa-cup'}\n",
      "{'id': 133, 'name': 'EFL Cup', 'localizedName': 'EFL Cup', 'pageUrl': '/leagues/133/overview/efl-cup'}\n",
      "{'id': 142, 'name': 'EFL Trophy', 'localizedName': 'EFL Trophy', 'pageUrl': '/leagues/142/overview/efl-trophy'}\n",
      "{'id': 9253, 'name': 'FA Trophy', 'localizedName': 'FA Trophy', 'pageUrl': '/leagues/9253/overview/fa-trophy'}\n",
      "{'id': 10068, 'name': 'Premier League U18', 'localizedName': 'Premier League U18', 'pageUrl': '/leagues/10068/overview/premier-league-u18'}\n",
      "{'id': 9227, 'name': 'WSL', 'localizedName': 'WSL', 'pageUrl': '/leagues/9227/overview/wsl'}\n",
      "{'id': 10082, 'name': 'FA Cup (Women)', 'localizedName': 'FA Cup (Women)', 'pageUrl': '/leagues/10082/overview/fa-cup-women'}\n",
      "{'id': 9717, 'name': \"Women's League Cup\", 'localizedName': \"Women's League Cup\", 'pageUrl': '/leagues/9717/overview/womens-league-cup'}\n",
      "{'id': 9294, 'name': \"Women's Championship\", 'localizedName': \"Women's Championship\", 'pageUrl': '/leagues/9294/overview/womens-championship'}\n",
      "{'id': 10626, 'name': 'FA Cup Qualification', 'localizedName': 'FA Cup Qualification', 'pageUrl': '/leagues/10626/overview/fa-cup-qualification'}\n"
     ]
    }
   ],
   "source": [
    "for i in df2['leagues']:\n",
    "    for a in i:\n",
    "        print(a)"
   ]
  },
  {
   "cell_type": "code",
   "execution_count": null,
   "metadata": {},
   "outputs": [],
   "source": []
  }
 ],
 "metadata": {
  "kernelspec": {
   "display_name": ".venv",
   "language": "python",
   "name": "python3"
  },
  "language_info": {
   "codemirror_mode": {
    "name": "ipython",
    "version": 3
   },
   "file_extension": ".py",
   "mimetype": "text/x-python",
   "name": "python",
   "nbconvert_exporter": "python",
   "pygments_lexer": "ipython3",
   "version": "3.10.12"
  }
 },
 "nbformat": 4,
 "nbformat_minor": 2
}
