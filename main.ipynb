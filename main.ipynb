{
 "cells": [
  {
   "cell_type": "code",
   "execution_count": 350,
   "metadata": {},
   "outputs": [],
   "source": [
    "import requests\n",
    "import pandas as pd \n",
    "import numpy as np\n",
    "from datetime import datetime\n",
    "import os"
   ]
  },
  {
   "cell_type": "code",
   "execution_count": 272,
   "metadata": {},
   "outputs": [],
   "source": [
    "def connect_to_api():\n",
    "    response  = requests.get('https://www.fotmob.com/api/transfers')\n",
    "    result = response.status_code\n",
    "\n",
    "    if result == 200:\n",
    "        print('Connect to API Success')\n",
    "        data = response.json()\n",
    "    elif result == 404:\n",
    "        print('Fail to connect API')\n",
    "    return result , data\n",
    "\n"
   ]
  },
  {
   "cell_type": "code",
   "execution_count": 276,
   "metadata": {},
   "outputs": [
    {
     "name": "stdout",
     "output_type": "stream",
     "text": [
      "Connect to API Success\n"
     ]
    }
   ],
   "source": [
    "data = connect_to_api()[1]"
   ]
  },
  {
   "cell_type": "code",
   "execution_count": 277,
   "metadata": {},
   "outputs": [
    {
     "data": {
      "text/plain": [
       "dict_keys(['transfers', 'hits'])"
      ]
     },
     "execution_count": 277,
     "metadata": {},
     "output_type": "execute_result"
    }
   ],
   "source": [
    "data.keys()"
   ]
  },
  {
   "cell_type": "code",
   "execution_count": 283,
   "metadata": {},
   "outputs": [],
   "source": [
    "def processing_data(data):\n",
    "    raw_data = []\n",
    "    # xử lý json format to dict -> DF\n",
    "    for i in range(len(data['transfers'])):\n",
    "        a =     {\n",
    "            'playerId' : data['transfers'][i]['playerId'],\n",
    "            \n",
    "            'name' : data['transfers'][i]['name'],\n",
    "            'position': data.get('transfers')[i].get('position'),\n",
    "            'transferDate': data['transfers'][i]['transferDate'],\n",
    "            'fromClubId': data['transfers'][i]['fromClubId'],\n",
    "            'fromClub': data['transfers'][i]['fromClub'],\n",
    "            'toClub': data['transfers'][i]['toClub'],\n",
    "            'toClubId': data['transfers'][i]['toClubId'],\n",
    "            'fromDate': data['transfers'][i]['fromDate'], \n",
    "            'toDate': data.get('transfers')[i].get('toDate'),\n",
    "            'transferType': data.get('transfers')[i].get('transferType'),\n",
    "            'marketValue': data.get('transfers')[i].get('marketValue'),\n",
    "            'fee': data.get('transfers')[i].get('fee')\n",
    "            \n",
    "\n",
    "            \n",
    "\n",
    "        }\n",
    "        raw_data.append(a)\n",
    "        # break\n",
    "    df = pd.DataFrame(raw_data)\n",
    "\n",
    "    df['position_name'] = df['position'].str['label']\n",
    "    df['position_description'] = df['position'].str['key'].str.split('_').str[0]\n",
    "    df['transferType'] = df['transferType'].str['text']\n",
    "    df['fee_transfer'] = df['fee'].str['value'].replace(np.nan,0)\n",
    "    df['marketValue'] = df['marketValue'].replace(np.nan,0)\n",
    "    df['transferDate'] =  pd.to_datetime(df['transferDate']).dt.strftime('%d-%m-%Y')\n",
    "    df['fromDate'] =  pd.to_datetime(df['fromDate']).dt.strftime('%d-%m-%Y')\n",
    "    df['toDate'] =  pd.to_datetime(df['toDate']).dt.strftime('%d-%m-%Y')\n",
    "\n",
    "\n",
    "    # df.head(5)\n",
    "    return df\n",
    "\n",
    "\n"
   ]
  },
  {
   "cell_type": "code",
   "execution_count": 366,
   "metadata": {},
   "outputs": [
    {
     "data": {
      "text/html": [
       "<div>\n",
       "<style scoped>\n",
       "    .dataframe tbody tr th:only-of-type {\n",
       "        vertical-align: middle;\n",
       "    }\n",
       "\n",
       "    .dataframe tbody tr th {\n",
       "        vertical-align: top;\n",
       "    }\n",
       "\n",
       "    .dataframe thead th {\n",
       "        text-align: right;\n",
       "    }\n",
       "</style>\n",
       "<table border=\"1\" class=\"dataframe\">\n",
       "  <thead>\n",
       "    <tr style=\"text-align: right;\">\n",
       "      <th></th>\n",
       "      <th>playerId</th>\n",
       "      <th>name</th>\n",
       "      <th>position</th>\n",
       "      <th>transferDate</th>\n",
       "      <th>fromClubId</th>\n",
       "      <th>fromClub</th>\n",
       "      <th>toClub</th>\n",
       "      <th>toClubId</th>\n",
       "      <th>fromDate</th>\n",
       "      <th>toDate</th>\n",
       "      <th>transferType</th>\n",
       "      <th>marketValue</th>\n",
       "      <th>fee</th>\n",
       "      <th>position_name</th>\n",
       "      <th>position_description</th>\n",
       "      <th>fee_transfer</th>\n",
       "    </tr>\n",
       "  </thead>\n",
       "  <tbody>\n",
       "    <tr>\n",
       "      <th>0</th>\n",
       "      <td>1649302</td>\n",
       "      <td>Jayden Hibbert</td>\n",
       "      <td>None</td>\n",
       "      <td>19-06-2024</td>\n",
       "      <td>773958</td>\n",
       "      <td>Atlanta United</td>\n",
       "      <td>Birmingham Legion FC</td>\n",
       "      <td>-1</td>\n",
       "      <td>17-06-2024</td>\n",
       "      <td>31-12-2024</td>\n",
       "      <td>on loan</td>\n",
       "      <td>25000.0</td>\n",
       "      <td>{'feeText': 'on loan', 'localizedFeeText': 'on...</td>\n",
       "      <td>None</td>\n",
       "      <td>None</td>\n",
       "      <td>0.0</td>\n",
       "    </tr>\n",
       "    <tr>\n",
       "      <th>1</th>\n",
       "      <td>877450</td>\n",
       "      <td>Lasse Sørensen</td>\n",
       "      <td>{'label': 'RM', 'key': 'rightmidfielder_short'}</td>\n",
       "      <td>19-06-2024</td>\n",
       "      <td>8430</td>\n",
       "      <td>Lincoln</td>\n",
       "      <td>Huddersfield</td>\n",
       "      <td>9796</td>\n",
       "      <td>01-07-2024</td>\n",
       "      <td>30-06-2027</td>\n",
       "      <td>contract</td>\n",
       "      <td>550000.0</td>\n",
       "      <td>{'feeText': 'fee', 'localizedFeeText': 'transf...</td>\n",
       "      <td>RM</td>\n",
       "      <td>rightmidfielder</td>\n",
       "      <td>470000.0</td>\n",
       "    </tr>\n",
       "    <tr>\n",
       "      <th>2</th>\n",
       "      <td>607331</td>\n",
       "      <td>Alistair Coote</td>\n",
       "      <td>{'label': 'LW', 'key': 'leftwinger_short'}</td>\n",
       "      <td>19-06-2024</td>\n",
       "      <td>2</td>\n",
       "      <td>Free agent</td>\n",
       "      <td>Shelbourne</td>\n",
       "      <td>5751</td>\n",
       "      <td>01-07-2024</td>\n",
       "      <td>NaN</td>\n",
       "      <td>contract</td>\n",
       "      <td>130000.0</td>\n",
       "      <td>{'feeText': 'free transfer', 'localizedFeeText...</td>\n",
       "      <td>LW</td>\n",
       "      <td>leftwinger</td>\n",
       "      <td>0.0</td>\n",
       "    </tr>\n",
       "    <tr>\n",
       "      <th>3</th>\n",
       "      <td>568581</td>\n",
       "      <td>Alex Bass</td>\n",
       "      <td>{'label': 'GK', 'key': 'keeper'}</td>\n",
       "      <td>19-06-2024</td>\n",
       "      <td>8472</td>\n",
       "      <td>Sunderland</td>\n",
       "      <td>Notts County</td>\n",
       "      <td>9819</td>\n",
       "      <td>01-07-2024</td>\n",
       "      <td>30-06-2027</td>\n",
       "      <td>contract</td>\n",
       "      <td>240000.0</td>\n",
       "      <td>None</td>\n",
       "      <td>GK</td>\n",
       "      <td>keeper</td>\n",
       "      <td>0.0</td>\n",
       "    </tr>\n",
       "    <tr>\n",
       "      <th>4</th>\n",
       "      <td>832826</td>\n",
       "      <td>Sam Bone</td>\n",
       "      <td>{'label': 'CB', 'key': 'centerback_short'}</td>\n",
       "      <td>19-06-2024</td>\n",
       "      <td>8131</td>\n",
       "      <td>Maidstone United</td>\n",
       "      <td>Shelbourne</td>\n",
       "      <td>5751</td>\n",
       "      <td>01-07-2024</td>\n",
       "      <td>30-11-2024</td>\n",
       "      <td>contract</td>\n",
       "      <td>110000.0</td>\n",
       "      <td>{'feeText': 'free transfer', 'localizedFeeText...</td>\n",
       "      <td>CB</td>\n",
       "      <td>centerback</td>\n",
       "      <td>0.0</td>\n",
       "    </tr>\n",
       "  </tbody>\n",
       "</table>\n",
       "</div>"
      ],
      "text/plain": [
       "   playerId            name                                         position  \\\n",
       "0   1649302  Jayden Hibbert                                             None   \n",
       "1    877450  Lasse Sørensen  {'label': 'RM', 'key': 'rightmidfielder_short'}   \n",
       "2    607331  Alistair Coote       {'label': 'LW', 'key': 'leftwinger_short'}   \n",
       "3    568581       Alex Bass                 {'label': 'GK', 'key': 'keeper'}   \n",
       "4    832826        Sam Bone       {'label': 'CB', 'key': 'centerback_short'}   \n",
       "\n",
       "  transferDate  fromClubId          fromClub                toClub  toClubId  \\\n",
       "0   19-06-2024      773958    Atlanta United  Birmingham Legion FC        -1   \n",
       "1   19-06-2024        8430           Lincoln          Huddersfield      9796   \n",
       "2   19-06-2024           2        Free agent            Shelbourne      5751   \n",
       "3   19-06-2024        8472        Sunderland          Notts County      9819   \n",
       "4   19-06-2024        8131  Maidstone United            Shelbourne      5751   \n",
       "\n",
       "     fromDate      toDate transferType  marketValue  \\\n",
       "0  17-06-2024  31-12-2024      on loan      25000.0   \n",
       "1  01-07-2024  30-06-2027     contract     550000.0   \n",
       "2  01-07-2024         NaN     contract     130000.0   \n",
       "3  01-07-2024  30-06-2027     contract     240000.0   \n",
       "4  01-07-2024  30-11-2024     contract     110000.0   \n",
       "\n",
       "                                                 fee position_name  \\\n",
       "0  {'feeText': 'on loan', 'localizedFeeText': 'on...          None   \n",
       "1  {'feeText': 'fee', 'localizedFeeText': 'transf...            RM   \n",
       "2  {'feeText': 'free transfer', 'localizedFeeText...            LW   \n",
       "3                                               None            GK   \n",
       "4  {'feeText': 'free transfer', 'localizedFeeText...            CB   \n",
       "\n",
       "  position_description  fee_transfer  \n",
       "0                 None           0.0  \n",
       "1      rightmidfielder      470000.0  \n",
       "2           leftwinger           0.0  \n",
       "3               keeper           0.0  \n",
       "4           centerback           0.0  "
      ]
     },
     "execution_count": 366,
     "metadata": {},
     "output_type": "execute_result"
    }
   ],
   "source": [
    "transfer_table = processing_data(data)\n",
    "transfer_table.head()"
   ]
  },
  {
   "cell_type": "code",
   "execution_count": 367,
   "metadata": {},
   "outputs": [
    {
     "data": {
      "text/plain": [
       "['19-06-2024',\n",
       " '18-06-2024',\n",
       " '17-06-2024',\n",
       " '16-06-2024',\n",
       " '15-06-2024',\n",
       " '14-06-2024']"
      ]
     },
     "execution_count": 367,
     "metadata": {},
     "output_type": "execute_result"
    }
   ],
   "source": [
    "date_transfer = list(transfer_table['transferDate'].unique())\n",
    "date_transfer"
   ]
  },
  {
   "cell_type": "code",
   "execution_count": 378,
   "metadata": {},
   "outputs": [
    {
     "name": "stdout",
     "output_type": "stream",
     "text": [
      "data/transfer/2024/6\n",
      "data/transfer/2024/6\n",
      "data/transfer/2024/6\n",
      "data/transfer/2024/6\n",
      "data/transfer/2024/6\n",
      "data/transfer/2024/6\n"
     ]
    }
   ],
   "source": [
    "for i in date_transfer:\n",
    "    file = transfer_table[transfer_table['transferDate'] == i]\n",
    "    date = datetime.strptime(i,\"%d-%m-%Y\")\n",
    "    year = date.year\n",
    "    month = date.month\n",
    "    day = date.day\n",
    "    \n",
    "    path = f'data/transfer/{year}/{month}'\n",
    "    file_path = f'{path}/{i}'\n",
    "    # Create directory if not exists \n",
    "    os.makedirs(path,exist_ok=True)\n",
    "    \n",
    "    # Write to directory\n",
    "    file.to_csv(file_path, index=False)\n",
    "    print(file_path)\n",
    "    # break"
   ]
  },
  {
   "cell_type": "code",
   "execution_count": null,
   "metadata": {},
   "outputs": [],
   "source": []
  },
  {
   "cell_type": "code",
   "execution_count": null,
   "metadata": {},
   "outputs": [],
   "source": []
  }
 ],
 "metadata": {
  "kernelspec": {
   "display_name": ".venv",
   "language": "python",
   "name": "python3"
  },
  "language_info": {
   "codemirror_mode": {
    "name": "ipython",
    "version": 3
   },
   "file_extension": ".py",
   "mimetype": "text/x-python",
   "name": "python",
   "nbconvert_exporter": "python",
   "pygments_lexer": "ipython3",
   "version": "3.10.12"
  }
 },
 "nbformat": 4,
 "nbformat_minor": 2
}
